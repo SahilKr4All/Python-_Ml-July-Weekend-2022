{
 "cells": [
  {
   "cell_type": "code",
   "execution_count": 1,
   "id": "879cc13f",
   "metadata": {},
   "outputs": [],
   "source": [
    "import urllib.request as url\n",
    "import bs4"
   ]
  },
  {
   "cell_type": "code",
   "execution_count": 2,
   "id": "3047f003",
   "metadata": {},
   "outputs": [
    {
     "name": "stdout",
     "output_type": "stream",
     "text": [
      "Enter Movie name : ironman3\n"
     ]
    }
   ],
   "source": [
    "home_path = \"https://www.imdb.com\"\n",
    "path = \"https://www.imdb.com/find?q=\"\n",
    "moviename = input(\"Enter Movie name : \").replace(\" \",\"%20\")\n",
    "path = path+moviename"
   ]
  },
  {
   "cell_type": "code",
   "execution_count": 3,
   "id": "0ecbfcbd",
   "metadata": {},
   "outputs": [],
   "source": [
    "def webCrawl(path):\n",
    "    httpresponse = url.urlopen(path)\n",
    "    data = bs4.BeautifulSoup(httpresponse)\n",
    "    return data"
   ]
  },
  {
   "cell_type": "code",
   "execution_count": 4,
   "id": "f4c4d024",
   "metadata": {},
   "outputs": [],
   "source": [
    "# Movie Search page\n",
    "data = webCrawl(path)\n",
    "td = data.find(\"td\",class_=\"result_text\")\n",
    "a_href=td.find(\"a\")['href']\n",
    "path = home_path+a_href"
   ]
  },
  {
   "cell_type": "code",
   "execution_count": 5,
   "id": "b8f4e0f0",
   "metadata": {
    "scrolled": false
   },
   "outputs": [
    {
     "name": "stdout",
     "output_type": "stream",
     "text": [
      "Movie Name=>Iron Man Three\n",
      "Movie Rating=>7.1\n",
      "Director => Shane Black , \n",
      "Writer => Drew Pearce , Shane Black , Stan Lee , \n",
      "Star => Robert Downey Jr. , Guy Pearce , Gwyneth Paltrow , \n"
     ]
    }
   ],
   "source": [
    "#movie Page\n",
    "data = webCrawl(path)\n",
    "h1 = data.find(\"h1\",class_=\"sc-b73cd867-0 eKrKux\")\n",
    "span = data.find(\"span\",class_=\"sc-7ab21ed2-1 jGRxWM\")\n",
    "#a= data.find(\"a\",class_=\"ipc-metadata-list-item__list-content-item ipc-metadata-list-item__list-content-item--link\")\n",
    "\n",
    "div = data.find(\"div\",class_=\"sc-127a9a54-1 doAoXk sc-fa02f843-2 dwQKsL\")\n",
    "ul = div.find(\"ul\")\n",
    "ul_list = ul.findAll(\"ul\")\n",
    "movie_cast_data = []\n",
    "\n",
    "\n",
    "for i in ul_list:\n",
    "    movie_cast_data.append(i.findAll(\"a\"))\n",
    "    \n",
    "x = (\"Director\",\"Writer\",\"Star\")\n",
    "print(f\"Movie Name=>{h1.text}\")\n",
    "print(f\"Movie Rating=>{span.text}\")\n",
    "for i in range(len(movie_cast_data)):\n",
    "    print(f\"{x[i]} =>\",end=\" \")\n",
    "    for j in range(len(movie_cast_data[i])):\n",
    "            print(movie_cast_data[i][j].text , end=\" , \")\n",
    "    print()\n",
    "    \n"
   ]
  },
  {
   "cell_type": "code",
   "execution_count": null,
   "id": "d8bc5cec",
   "metadata": {},
   "outputs": [],
   "source": []
  }
 ],
 "metadata": {
  "kernelspec": {
   "display_name": "Python 3 (ipykernel)",
   "language": "python",
   "name": "python3"
  },
  "language_info": {
   "codemirror_mode": {
    "name": "ipython",
    "version": 3
   },
   "file_extension": ".py",
   "mimetype": "text/x-python",
   "name": "python",
   "nbconvert_exporter": "python",
   "pygments_lexer": "ipython3",
   "version": "3.7.2"
  }
 },
 "nbformat": 4,
 "nbformat_minor": 5
}
