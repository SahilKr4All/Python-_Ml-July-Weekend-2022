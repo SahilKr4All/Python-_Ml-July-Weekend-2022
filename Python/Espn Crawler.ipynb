{
 "cells": [
  {
   "cell_type": "code",
   "execution_count": 21,
   "id": "6be45c9a",
   "metadata": {},
   "outputs": [],
   "source": [
    "import urllib.request as url \n",
    "import bs4,lxml"
   ]
  },
  {
   "cell_type": "code",
   "execution_count": 22,
   "id": "e54386f5",
   "metadata": {},
   "outputs": [],
   "source": [
    "def webcrawl(path):\n",
    "    httpresponse= url.urlopen(path)\n",
    "    data= bs4.BeautifulSoup(httpresponse,'lxml')\n",
    "    return data"
   ]
  },
  {
   "cell_type": "code",
   "execution_count": 23,
   "id": "36ef9bc9",
   "metadata": {},
   "outputs": [],
   "source": [
    "data = webcrawl(\"https://www.espncricinfo.com/\")"
   ]
  },
  {
   "cell_type": "code",
   "execution_count": 24,
   "id": "2a3b2448",
   "metadata": {},
   "outputs": [],
   "source": [
    "div= data.find(\"div\",class_=\"ds-bg-fill-navbar\")\n",
    "div =div.findAll(\"div\",class_=\"ds-flex ds-flex-row\")[-1]\n",
    "a_href=div.findAll(\"a\")[-1][\"href\"];"
   ]
  },
  {
   "cell_type": "code",
   "execution_count": 25,
   "id": "8b1798d2",
   "metadata": {},
   "outputs": [
    {
     "data": {
      "text/plain": [
       "'https://www.espncricinfo.com/ci/engine/records/index.html'"
      ]
     },
     "execution_count": 25,
     "metadata": {},
     "output_type": "execute_result"
    }
   ],
   "source": [
    "a_href"
   ]
  },
  {
   "cell_type": "code",
   "execution_count": 26,
   "id": "9785b932",
   "metadata": {},
   "outputs": [],
   "source": [
    " data=webcrawl(a_href)"
   ]
  },
  {
   "cell_type": "code",
   "execution_count": 27,
   "id": "bf8306cb",
   "metadata": {},
   "outputs": [],
   "source": [
    "data= webcrawl(\"https://stats.espncricinfo.com/ci/engine/records/index.html?category=2;class=1\")\n",
    "a=data.find(\"ul\", class_=\"Record\").findAll('a')[0]['href']\n",
    "path=\"https://stats.espncricinfo.com\"+a"
   ]
  },
  {
   "cell_type": "code",
   "execution_count": 28,
   "id": "4684b7d1",
   "metadata": {},
   "outputs": [],
   "source": [
    "data =webcrawl(path)"
   ]
  },
  {
   "cell_type": "code",
   "execution_count": 42,
   "id": "da87589e",
   "metadata": {},
   "outputs": [],
   "source": [
    "table = data.find(\"table\")"
   ]
  },
  {
   "cell_type": "code",
   "execution_count": 43,
   "id": "5e647911",
   "metadata": {},
   "outputs": [],
   "source": [
    "trlist=table.findAll(\"tr\")"
   ]
  },
  {
   "cell_type": "code",
   "execution_count": 44,
   "id": "ccb4aed2",
   "metadata": {},
   "outputs": [],
   "source": [
    "col1=[]\n",
    "col2=[]\n",
    "col3=[]\n",
    "col4=[]\n",
    "\n",
    "tdl=[]\n",
    "for i in trlist:\n",
    "    td_list=i.findAll(\"td\")\n",
    "    tdl.append(td_list)\n",
    "    \n",
    "    \n",
    "del tdl[0]        "
   ]
  },
  {
   "cell_type": "code",
   "execution_count": 45,
   "id": "7a5ea1e4",
   "metadata": {},
   "outputs": [],
   "source": [
    "for i in range(len(tdl)):\n",
    "    del tdl[i][2]\n",
    "    for j in range(len(tdl[i])):\n",
    "        tdl[i][j]=tdl[i][j].text\n",
    "        "
   ]
  },
  {
   "cell_type": "code",
   "execution_count": 47,
   "id": "6d31189c",
   "metadata": {},
   "outputs": [],
   "source": [
    "dic = {\"Series\":[],\"Season\":[],\"Winner\":[],\"margin\":[]}\n",
    "for i in range(len(tdl)):\n",
    "        dic[\"Series\"].append(tdl[i][0])\n",
    "        dic[\"Season\"].append(tdl[i][1])\n",
    "        dic[\"Winner\"].append(tdl[i][2])\n",
    "        dic[\"margin\"].append(tdl[i][3])"
   ]
  },
  {
   "cell_type": "code",
   "execution_count": 49,
   "id": "2e70a5e6",
   "metadata": {},
   "outputs": [],
   "source": [
    "import pandas as pd"
   ]
  },
  {
   "cell_type": "code",
   "execution_count": 50,
   "id": "58fad8fe",
   "metadata": {},
   "outputs": [],
   "source": [
    "df = pd.DataFrame(dic)"
   ]
  },
  {
   "cell_type": "code",
   "execution_count": 55,
   "id": "ae47d98c",
   "metadata": {},
   "outputs": [
    {
     "data": {
      "text/html": [
       "<div>\n",
       "<style scoped>\n",
       "    .dataframe tbody tr th:only-of-type {\n",
       "        vertical-align: middle;\n",
       "    }\n",
       "\n",
       "    .dataframe tbody tr th {\n",
       "        vertical-align: top;\n",
       "    }\n",
       "\n",
       "    .dataframe thead th {\n",
       "        text-align: right;\n",
       "    }\n",
       "</style>\n",
       "<table border=\"1\" class=\"dataframe\">\n",
       "  <thead>\n",
       "    <tr style=\"text-align: right;\">\n",
       "      <th></th>\n",
       "      <th>Series</th>\n",
       "      <th>Season</th>\n",
       "      <th>Winner</th>\n",
       "      <th>margin</th>\n",
       "    </tr>\n",
       "  </thead>\n",
       "  <tbody>\n",
       "    <tr>\n",
       "      <th>706</th>\n",
       "      <td>Sri Lanka in South Africa Test Series</td>\n",
       "      <td>2016/17</td>\n",
       "      <td>South Africa</td>\n",
       "      <td>3-0 (3)</td>\n",
       "    </tr>\n",
       "    <tr>\n",
       "      <th>707</th>\n",
       "      <td>Bangladesh in New Zealand Test Series</td>\n",
       "      <td>2016/17</td>\n",
       "      <td>New Zealand</td>\n",
       "      <td>2-0 (2)</td>\n",
       "    </tr>\n",
       "    <tr>\n",
       "      <th>708</th>\n",
       "      <td>Bangladesh in India Test Match</td>\n",
       "      <td>2016/17</td>\n",
       "      <td>India</td>\n",
       "      <td>1-0 (1)</td>\n",
       "    </tr>\n",
       "    <tr>\n",
       "      <th>709</th>\n",
       "      <td>Bangladesh in Sri Lanka Test Series</td>\n",
       "      <td>2016/17</td>\n",
       "      <td>drawn</td>\n",
       "      <td>1-1 (2)</td>\n",
       "    </tr>\n",
       "    <tr>\n",
       "      <th>710</th>\n",
       "      <td>Border-Gavaskar Trophy (Australia in India)</td>\n",
       "      <td>2016/17</td>\n",
       "      <td>India</td>\n",
       "      <td>2-1 (4)</td>\n",
       "    </tr>\n",
       "    <tr>\n",
       "      <th>...</th>\n",
       "      <td>...</td>\n",
       "      <td>...</td>\n",
       "      <td>...</td>\n",
       "      <td>...</td>\n",
       "    </tr>\n",
       "    <tr>\n",
       "      <th>801</th>\n",
       "      <td>New Zealand in England Test Series</td>\n",
       "      <td>2022</td>\n",
       "      <td>England</td>\n",
       "      <td>3-0 (3)</td>\n",
       "    </tr>\n",
       "    <tr>\n",
       "      <th>802</th>\n",
       "      <td>Pataudi Trophy (India in England)</td>\n",
       "      <td>2021-2022</td>\n",
       "      <td>drawn</td>\n",
       "      <td>2-2 (5)</td>\n",
       "    </tr>\n",
       "    <tr>\n",
       "      <th>803</th>\n",
       "      <td>Warne-Muralitharan Trophy (Australia in Sri La...</td>\n",
       "      <td>2022</td>\n",
       "      <td>drawn</td>\n",
       "      <td>1-1 (2)</td>\n",
       "    </tr>\n",
       "    <tr>\n",
       "      <th>804</th>\n",
       "      <td>ICC World Test Championship</td>\n",
       "      <td>2021-2023</td>\n",
       "      <td>-</td>\n",
       "      <td></td>\n",
       "    </tr>\n",
       "    <tr>\n",
       "      <th>805</th>\n",
       "      <td>Pakistan in Sri Lanka Test Series</td>\n",
       "      <td>2022</td>\n",
       "      <td>drawn</td>\n",
       "      <td>1-1 (2)</td>\n",
       "    </tr>\n",
       "  </tbody>\n",
       "</table>\n",
       "<p>100 rows × 4 columns</p>\n",
       "</div>"
      ],
      "text/plain": [
       "                                                Series     Season  \\\n",
       "706              Sri Lanka in South Africa Test Series    2016/17   \n",
       "707              Bangladesh in New Zealand Test Series    2016/17   \n",
       "708                     Bangladesh in India Test Match    2016/17   \n",
       "709                Bangladesh in Sri Lanka Test Series    2016/17   \n",
       "710        Border-Gavaskar Trophy (Australia in India)    2016/17   \n",
       "..                                                 ...        ...   \n",
       "801                 New Zealand in England Test Series       2022   \n",
       "802                  Pataudi Trophy (India in England)  2021-2022   \n",
       "803  Warne-Muralitharan Trophy (Australia in Sri La...       2022   \n",
       "804                        ICC World Test Championship  2021-2023   \n",
       "805                  Pakistan in Sri Lanka Test Series       2022   \n",
       "\n",
       "           Winner   margin  \n",
       "706  South Africa  3-0 (3)  \n",
       "707   New Zealand  2-0 (2)  \n",
       "708         India  1-0 (1)  \n",
       "709         drawn  1-1 (2)  \n",
       "710         India  2-1 (4)  \n",
       "..            ...      ...  \n",
       "801       England  3-0 (3)  \n",
       "802         drawn  2-2 (5)  \n",
       "803         drawn  1-1 (2)  \n",
       "804             -           \n",
       "805         drawn  1-1 (2)  \n",
       "\n",
       "[100 rows x 4 columns]"
      ]
     },
     "execution_count": 55,
     "metadata": {},
     "output_type": "execute_result"
    }
   ],
   "source": [
    "df.tail(100)"
   ]
  },
  {
   "cell_type": "code",
   "execution_count": null,
   "id": "9dd465b2",
   "metadata": {},
   "outputs": [],
   "source": []
  }
 ],
 "metadata": {
  "kernelspec": {
   "display_name": "Python 3 (ipykernel)",
   "language": "python",
   "name": "python3"
  },
  "language_info": {
   "codemirror_mode": {
    "name": "ipython",
    "version": 3
   },
   "file_extension": ".py",
   "mimetype": "text/x-python",
   "name": "python",
   "nbconvert_exporter": "python",
   "pygments_lexer": "ipython3",
   "version": "3.7.2"
  }
 },
 "nbformat": 4,
 "nbformat_minor": 5
}
